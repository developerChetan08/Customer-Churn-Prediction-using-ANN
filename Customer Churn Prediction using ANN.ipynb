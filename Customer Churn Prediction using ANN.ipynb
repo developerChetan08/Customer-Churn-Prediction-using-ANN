{
 "cells": [
  {
   "cell_type": "code",
   "execution_count": 1,
   "id": "aa943d1f",
   "metadata": {},
   "outputs": [],
   "source": [
    "##https://www.youtube.com/watch?v=9wmImImmgcI&list=PLKnIA16_RmvYuZauWaPlRTC54KxSNLtNn&index=11"
   ]
  },
  {
   "cell_type": "code",
   "execution_count": 2,
   "id": "50d0b0a2",
   "metadata": {},
   "outputs": [],
   "source": [
    "import pandas as pd"
   ]
  },
  {
   "cell_type": "code",
   "execution_count": 3,
   "id": "d38db71f",
   "metadata": {},
   "outputs": [],
   "source": [
    "df = pd.read_csv('Churn_Modelling.csv')"
   ]
  },
  {
   "cell_type": "code",
   "execution_count": 4,
   "id": "13202653",
   "metadata": {},
   "outputs": [
    {
     "data": {
      "text/html": [
       "<div>\n",
       "<style scoped>\n",
       "    .dataframe tbody tr th:only-of-type {\n",
       "        vertical-align: middle;\n",
       "    }\n",
       "\n",
       "    .dataframe tbody tr th {\n",
       "        vertical-align: top;\n",
       "    }\n",
       "\n",
       "    .dataframe thead th {\n",
       "        text-align: right;\n",
       "    }\n",
       "</style>\n",
       "<table border=\"1\" class=\"dataframe\">\n",
       "  <thead>\n",
       "    <tr style=\"text-align: right;\">\n",
       "      <th></th>\n",
       "      <th>RowNumber</th>\n",
       "      <th>CustomerId</th>\n",
       "      <th>Surname</th>\n",
       "      <th>CreditScore</th>\n",
       "      <th>Geography</th>\n",
       "      <th>Gender</th>\n",
       "      <th>Age</th>\n",
       "      <th>Tenure</th>\n",
       "      <th>Balance</th>\n",
       "      <th>NumOfProducts</th>\n",
       "      <th>HasCrCard</th>\n",
       "      <th>IsActiveMember</th>\n",
       "      <th>EstimatedSalary</th>\n",
       "      <th>Exited</th>\n",
       "    </tr>\n",
       "  </thead>\n",
       "  <tbody>\n",
       "    <tr>\n",
       "      <th>0</th>\n",
       "      <td>1</td>\n",
       "      <td>15634602</td>\n",
       "      <td>Hargrave</td>\n",
       "      <td>619</td>\n",
       "      <td>France</td>\n",
       "      <td>Female</td>\n",
       "      <td>42</td>\n",
       "      <td>2</td>\n",
       "      <td>0.00</td>\n",
       "      <td>1</td>\n",
       "      <td>1</td>\n",
       "      <td>1</td>\n",
       "      <td>101348.88</td>\n",
       "      <td>1</td>\n",
       "    </tr>\n",
       "    <tr>\n",
       "      <th>1</th>\n",
       "      <td>2</td>\n",
       "      <td>15647311</td>\n",
       "      <td>Hill</td>\n",
       "      <td>608</td>\n",
       "      <td>Spain</td>\n",
       "      <td>Female</td>\n",
       "      <td>41</td>\n",
       "      <td>1</td>\n",
       "      <td>83807.86</td>\n",
       "      <td>1</td>\n",
       "      <td>0</td>\n",
       "      <td>1</td>\n",
       "      <td>112542.58</td>\n",
       "      <td>0</td>\n",
       "    </tr>\n",
       "    <tr>\n",
       "      <th>2</th>\n",
       "      <td>3</td>\n",
       "      <td>15619304</td>\n",
       "      <td>Onio</td>\n",
       "      <td>502</td>\n",
       "      <td>France</td>\n",
       "      <td>Female</td>\n",
       "      <td>42</td>\n",
       "      <td>8</td>\n",
       "      <td>159660.80</td>\n",
       "      <td>3</td>\n",
       "      <td>1</td>\n",
       "      <td>0</td>\n",
       "      <td>113931.57</td>\n",
       "      <td>1</td>\n",
       "    </tr>\n",
       "    <tr>\n",
       "      <th>3</th>\n",
       "      <td>4</td>\n",
       "      <td>15701354</td>\n",
       "      <td>Boni</td>\n",
       "      <td>699</td>\n",
       "      <td>France</td>\n",
       "      <td>Female</td>\n",
       "      <td>39</td>\n",
       "      <td>1</td>\n",
       "      <td>0.00</td>\n",
       "      <td>2</td>\n",
       "      <td>0</td>\n",
       "      <td>0</td>\n",
       "      <td>93826.63</td>\n",
       "      <td>0</td>\n",
       "    </tr>\n",
       "    <tr>\n",
       "      <th>4</th>\n",
       "      <td>5</td>\n",
       "      <td>15737888</td>\n",
       "      <td>Mitchell</td>\n",
       "      <td>850</td>\n",
       "      <td>Spain</td>\n",
       "      <td>Female</td>\n",
       "      <td>43</td>\n",
       "      <td>2</td>\n",
       "      <td>125510.82</td>\n",
       "      <td>1</td>\n",
       "      <td>1</td>\n",
       "      <td>1</td>\n",
       "      <td>79084.10</td>\n",
       "      <td>0</td>\n",
       "    </tr>\n",
       "  </tbody>\n",
       "</table>\n",
       "</div>"
      ],
      "text/plain": [
       "   RowNumber  CustomerId   Surname  CreditScore Geography  Gender  Age  \\\n",
       "0          1    15634602  Hargrave          619    France  Female   42   \n",
       "1          2    15647311      Hill          608     Spain  Female   41   \n",
       "2          3    15619304      Onio          502    France  Female   42   \n",
       "3          4    15701354      Boni          699    France  Female   39   \n",
       "4          5    15737888  Mitchell          850     Spain  Female   43   \n",
       "\n",
       "   Tenure    Balance  NumOfProducts  HasCrCard  IsActiveMember  \\\n",
       "0       2       0.00              1          1               1   \n",
       "1       1   83807.86              1          0               1   \n",
       "2       8  159660.80              3          1               0   \n",
       "3       1       0.00              2          0               0   \n",
       "4       2  125510.82              1          1               1   \n",
       "\n",
       "   EstimatedSalary  Exited  \n",
       "0        101348.88       1  \n",
       "1        112542.58       0  \n",
       "2        113931.57       1  \n",
       "3         93826.63       0  \n",
       "4         79084.10       0  "
      ]
     },
     "execution_count": 4,
     "metadata": {},
     "output_type": "execute_result"
    }
   ],
   "source": [
    "df.head(5)"
   ]
  },
  {
   "cell_type": "code",
   "execution_count": 5,
   "id": "8bf38b90",
   "metadata": {},
   "outputs": [
    {
     "data": {
      "text/plain": [
       "(10000, 14)"
      ]
     },
     "execution_count": 5,
     "metadata": {},
     "output_type": "execute_result"
    }
   ],
   "source": [
    "df.shape"
   ]
  },
  {
   "cell_type": "code",
   "execution_count": 6,
   "id": "acf637b0",
   "metadata": {},
   "outputs": [
    {
     "name": "stdout",
     "output_type": "stream",
     "text": [
      "<class 'pandas.core.frame.DataFrame'>\n",
      "RangeIndex: 10000 entries, 0 to 9999\n",
      "Data columns (total 14 columns):\n",
      " #   Column           Non-Null Count  Dtype  \n",
      "---  ------           --------------  -----  \n",
      " 0   RowNumber        10000 non-null  int64  \n",
      " 1   CustomerId       10000 non-null  int64  \n",
      " 2   Surname          10000 non-null  object \n",
      " 3   CreditScore      10000 non-null  int64  \n",
      " 4   Geography        10000 non-null  object \n",
      " 5   Gender           10000 non-null  object \n",
      " 6   Age              10000 non-null  int64  \n",
      " 7   Tenure           10000 non-null  int64  \n",
      " 8   Balance          10000 non-null  float64\n",
      " 9   NumOfProducts    10000 non-null  int64  \n",
      " 10  HasCrCard        10000 non-null  int64  \n",
      " 11  IsActiveMember   10000 non-null  int64  \n",
      " 12  EstimatedSalary  10000 non-null  float64\n",
      " 13  Exited           10000 non-null  int64  \n",
      "dtypes: float64(2), int64(9), object(3)\n",
      "memory usage: 1.1+ MB\n"
     ]
    }
   ],
   "source": [
    "df.info()"
   ]
  },
  {
   "cell_type": "code",
   "execution_count": 7,
   "id": "1e3a2f43",
   "metadata": {},
   "outputs": [
    {
     "data": {
      "text/plain": [
       "0"
      ]
     },
     "execution_count": 7,
     "metadata": {},
     "output_type": "execute_result"
    }
   ],
   "source": [
    "df.duplicated().sum()"
   ]
  },
  {
   "cell_type": "code",
   "execution_count": 8,
   "id": "b1e13e5a",
   "metadata": {},
   "outputs": [
    {
     "data": {
      "text/plain": [
       "RowNumber          0\n",
       "CustomerId         0\n",
       "Surname            0\n",
       "CreditScore        0\n",
       "Geography          0\n",
       "Gender             0\n",
       "Age                0\n",
       "Tenure             0\n",
       "Balance            0\n",
       "NumOfProducts      0\n",
       "HasCrCard          0\n",
       "IsActiveMember     0\n",
       "EstimatedSalary    0\n",
       "Exited             0\n",
       "dtype: int64"
      ]
     },
     "execution_count": 8,
     "metadata": {},
     "output_type": "execute_result"
    }
   ],
   "source": [
    "df.isnull().sum()"
   ]
  },
  {
   "cell_type": "markdown",
   "id": "cc0a6b8d",
   "metadata": {},
   "source": [
    "# Check How Many Pepole Exited Or Not Exited"
   ]
  },
  {
   "cell_type": "code",
   "execution_count": 9,
   "id": "12eca545",
   "metadata": {},
   "outputs": [
    {
     "data": {
      "text/plain": [
       "0    7963\n",
       "1    2037\n",
       "Name: Exited, dtype: int64"
      ]
     },
     "execution_count": 9,
     "metadata": {},
     "output_type": "execute_result"
    }
   ],
   "source": [
    "df['Exited'].value_counts()"
   ]
  },
  {
   "cell_type": "code",
   "execution_count": 10,
   "id": "7f5951be",
   "metadata": {},
   "outputs": [
    {
     "data": {
      "text/plain": [
       "France     5014\n",
       "Germany    2509\n",
       "Spain      2477\n",
       "Name: Geography, dtype: int64"
      ]
     },
     "execution_count": 10,
     "metadata": {},
     "output_type": "execute_result"
    }
   ],
   "source": [
    "df['Geography'].value_counts()"
   ]
  },
  {
   "cell_type": "code",
   "execution_count": 11,
   "id": "808f6449",
   "metadata": {},
   "outputs": [
    {
     "data": {
      "text/plain": [
       "Male      5457\n",
       "Female    4543\n",
       "Name: Gender, dtype: int64"
      ]
     },
     "execution_count": 11,
     "metadata": {},
     "output_type": "execute_result"
    }
   ],
   "source": [
    "df['Gender'].value_counts()"
   ]
  },
  {
   "cell_type": "markdown",
   "id": "3f2fb157",
   "metadata": {},
   "source": [
    "# Remove this col:-"
   ]
  },
  {
   "cell_type": "code",
   "execution_count": 12,
   "id": "db34217e",
   "metadata": {},
   "outputs": [],
   "source": [
    "df.drop(columns=['RowNumber','CustomerId','Surname'],inplace=True)"
   ]
  },
  {
   "cell_type": "code",
   "execution_count": 13,
   "id": "9b5964d5",
   "metadata": {},
   "outputs": [
    {
     "data": {
      "text/html": [
       "<div>\n",
       "<style scoped>\n",
       "    .dataframe tbody tr th:only-of-type {\n",
       "        vertical-align: middle;\n",
       "    }\n",
       "\n",
       "    .dataframe tbody tr th {\n",
       "        vertical-align: top;\n",
       "    }\n",
       "\n",
       "    .dataframe thead th {\n",
       "        text-align: right;\n",
       "    }\n",
       "</style>\n",
       "<table border=\"1\" class=\"dataframe\">\n",
       "  <thead>\n",
       "    <tr style=\"text-align: right;\">\n",
       "      <th></th>\n",
       "      <th>CreditScore</th>\n",
       "      <th>Geography</th>\n",
       "      <th>Gender</th>\n",
       "      <th>Age</th>\n",
       "      <th>Tenure</th>\n",
       "      <th>Balance</th>\n",
       "      <th>NumOfProducts</th>\n",
       "      <th>HasCrCard</th>\n",
       "      <th>IsActiveMember</th>\n",
       "      <th>EstimatedSalary</th>\n",
       "      <th>Exited</th>\n",
       "    </tr>\n",
       "  </thead>\n",
       "  <tbody>\n",
       "    <tr>\n",
       "      <th>0</th>\n",
       "      <td>619</td>\n",
       "      <td>France</td>\n",
       "      <td>Female</td>\n",
       "      <td>42</td>\n",
       "      <td>2</td>\n",
       "      <td>0.00</td>\n",
       "      <td>1</td>\n",
       "      <td>1</td>\n",
       "      <td>1</td>\n",
       "      <td>101348.88</td>\n",
       "      <td>1</td>\n",
       "    </tr>\n",
       "    <tr>\n",
       "      <th>1</th>\n",
       "      <td>608</td>\n",
       "      <td>Spain</td>\n",
       "      <td>Female</td>\n",
       "      <td>41</td>\n",
       "      <td>1</td>\n",
       "      <td>83807.86</td>\n",
       "      <td>1</td>\n",
       "      <td>0</td>\n",
       "      <td>1</td>\n",
       "      <td>112542.58</td>\n",
       "      <td>0</td>\n",
       "    </tr>\n",
       "  </tbody>\n",
       "</table>\n",
       "</div>"
      ],
      "text/plain": [
       "   CreditScore Geography  Gender  Age  Tenure   Balance  NumOfProducts  \\\n",
       "0          619    France  Female   42       2      0.00              1   \n",
       "1          608     Spain  Female   41       1  83807.86              1   \n",
       "\n",
       "   HasCrCard  IsActiveMember  EstimatedSalary  Exited  \n",
       "0          1               1        101348.88       1  \n",
       "1          0               1        112542.58       0  "
      ]
     },
     "execution_count": 13,
     "metadata": {},
     "output_type": "execute_result"
    }
   ],
   "source": [
    "df.head(2)"
   ]
  },
  {
   "cell_type": "markdown",
   "id": "3844a93e",
   "metadata": {},
   "source": [
    "# Apply ONE Hot Encoder :- Geography & Gender Col"
   ]
  },
  {
   "cell_type": "code",
   "execution_count": 14,
   "id": "a2cdaf8d",
   "metadata": {},
   "outputs": [],
   "source": [
    "df = pd.get_dummies(df,columns=['Geography','Gender'],drop_first=True)"
   ]
  },
  {
   "cell_type": "code",
   "execution_count": 15,
   "id": "7ed9e951",
   "metadata": {},
   "outputs": [
    {
     "data": {
      "text/html": [
       "<div>\n",
       "<style scoped>\n",
       "    .dataframe tbody tr th:only-of-type {\n",
       "        vertical-align: middle;\n",
       "    }\n",
       "\n",
       "    .dataframe tbody tr th {\n",
       "        vertical-align: top;\n",
       "    }\n",
       "\n",
       "    .dataframe thead th {\n",
       "        text-align: right;\n",
       "    }\n",
       "</style>\n",
       "<table border=\"1\" class=\"dataframe\">\n",
       "  <thead>\n",
       "    <tr style=\"text-align: right;\">\n",
       "      <th></th>\n",
       "      <th>CreditScore</th>\n",
       "      <th>Age</th>\n",
       "      <th>Tenure</th>\n",
       "      <th>Balance</th>\n",
       "      <th>NumOfProducts</th>\n",
       "      <th>HasCrCard</th>\n",
       "      <th>IsActiveMember</th>\n",
       "      <th>EstimatedSalary</th>\n",
       "      <th>Exited</th>\n",
       "      <th>Geography_Germany</th>\n",
       "      <th>Geography_Spain</th>\n",
       "      <th>Gender_Male</th>\n",
       "    </tr>\n",
       "  </thead>\n",
       "  <tbody>\n",
       "    <tr>\n",
       "      <th>0</th>\n",
       "      <td>619</td>\n",
       "      <td>42</td>\n",
       "      <td>2</td>\n",
       "      <td>0.00</td>\n",
       "      <td>1</td>\n",
       "      <td>1</td>\n",
       "      <td>1</td>\n",
       "      <td>101348.88</td>\n",
       "      <td>1</td>\n",
       "      <td>0</td>\n",
       "      <td>0</td>\n",
       "      <td>0</td>\n",
       "    </tr>\n",
       "    <tr>\n",
       "      <th>1</th>\n",
       "      <td>608</td>\n",
       "      <td>41</td>\n",
       "      <td>1</td>\n",
       "      <td>83807.86</td>\n",
       "      <td>1</td>\n",
       "      <td>0</td>\n",
       "      <td>1</td>\n",
       "      <td>112542.58</td>\n",
       "      <td>0</td>\n",
       "      <td>0</td>\n",
       "      <td>1</td>\n",
       "      <td>0</td>\n",
       "    </tr>\n",
       "    <tr>\n",
       "      <th>2</th>\n",
       "      <td>502</td>\n",
       "      <td>42</td>\n",
       "      <td>8</td>\n",
       "      <td>159660.80</td>\n",
       "      <td>3</td>\n",
       "      <td>1</td>\n",
       "      <td>0</td>\n",
       "      <td>113931.57</td>\n",
       "      <td>1</td>\n",
       "      <td>0</td>\n",
       "      <td>0</td>\n",
       "      <td>0</td>\n",
       "    </tr>\n",
       "    <tr>\n",
       "      <th>3</th>\n",
       "      <td>699</td>\n",
       "      <td>39</td>\n",
       "      <td>1</td>\n",
       "      <td>0.00</td>\n",
       "      <td>2</td>\n",
       "      <td>0</td>\n",
       "      <td>0</td>\n",
       "      <td>93826.63</td>\n",
       "      <td>0</td>\n",
       "      <td>0</td>\n",
       "      <td>0</td>\n",
       "      <td>0</td>\n",
       "    </tr>\n",
       "    <tr>\n",
       "      <th>4</th>\n",
       "      <td>850</td>\n",
       "      <td>43</td>\n",
       "      <td>2</td>\n",
       "      <td>125510.82</td>\n",
       "      <td>1</td>\n",
       "      <td>1</td>\n",
       "      <td>1</td>\n",
       "      <td>79084.10</td>\n",
       "      <td>0</td>\n",
       "      <td>0</td>\n",
       "      <td>1</td>\n",
       "      <td>0</td>\n",
       "    </tr>\n",
       "    <tr>\n",
       "      <th>...</th>\n",
       "      <td>...</td>\n",
       "      <td>...</td>\n",
       "      <td>...</td>\n",
       "      <td>...</td>\n",
       "      <td>...</td>\n",
       "      <td>...</td>\n",
       "      <td>...</td>\n",
       "      <td>...</td>\n",
       "      <td>...</td>\n",
       "      <td>...</td>\n",
       "      <td>...</td>\n",
       "      <td>...</td>\n",
       "    </tr>\n",
       "    <tr>\n",
       "      <th>9995</th>\n",
       "      <td>771</td>\n",
       "      <td>39</td>\n",
       "      <td>5</td>\n",
       "      <td>0.00</td>\n",
       "      <td>2</td>\n",
       "      <td>1</td>\n",
       "      <td>0</td>\n",
       "      <td>96270.64</td>\n",
       "      <td>0</td>\n",
       "      <td>0</td>\n",
       "      <td>0</td>\n",
       "      <td>1</td>\n",
       "    </tr>\n",
       "    <tr>\n",
       "      <th>9996</th>\n",
       "      <td>516</td>\n",
       "      <td>35</td>\n",
       "      <td>10</td>\n",
       "      <td>57369.61</td>\n",
       "      <td>1</td>\n",
       "      <td>1</td>\n",
       "      <td>1</td>\n",
       "      <td>101699.77</td>\n",
       "      <td>0</td>\n",
       "      <td>0</td>\n",
       "      <td>0</td>\n",
       "      <td>1</td>\n",
       "    </tr>\n",
       "    <tr>\n",
       "      <th>9997</th>\n",
       "      <td>709</td>\n",
       "      <td>36</td>\n",
       "      <td>7</td>\n",
       "      <td>0.00</td>\n",
       "      <td>1</td>\n",
       "      <td>0</td>\n",
       "      <td>1</td>\n",
       "      <td>42085.58</td>\n",
       "      <td>1</td>\n",
       "      <td>0</td>\n",
       "      <td>0</td>\n",
       "      <td>0</td>\n",
       "    </tr>\n",
       "    <tr>\n",
       "      <th>9998</th>\n",
       "      <td>772</td>\n",
       "      <td>42</td>\n",
       "      <td>3</td>\n",
       "      <td>75075.31</td>\n",
       "      <td>2</td>\n",
       "      <td>1</td>\n",
       "      <td>0</td>\n",
       "      <td>92888.52</td>\n",
       "      <td>1</td>\n",
       "      <td>1</td>\n",
       "      <td>0</td>\n",
       "      <td>1</td>\n",
       "    </tr>\n",
       "    <tr>\n",
       "      <th>9999</th>\n",
       "      <td>792</td>\n",
       "      <td>28</td>\n",
       "      <td>4</td>\n",
       "      <td>130142.79</td>\n",
       "      <td>1</td>\n",
       "      <td>1</td>\n",
       "      <td>0</td>\n",
       "      <td>38190.78</td>\n",
       "      <td>0</td>\n",
       "      <td>0</td>\n",
       "      <td>0</td>\n",
       "      <td>0</td>\n",
       "    </tr>\n",
       "  </tbody>\n",
       "</table>\n",
       "<p>10000 rows × 12 columns</p>\n",
       "</div>"
      ],
      "text/plain": [
       "      CreditScore  Age  Tenure    Balance  NumOfProducts  HasCrCard  \\\n",
       "0             619   42       2       0.00              1          1   \n",
       "1             608   41       1   83807.86              1          0   \n",
       "2             502   42       8  159660.80              3          1   \n",
       "3             699   39       1       0.00              2          0   \n",
       "4             850   43       2  125510.82              1          1   \n",
       "...           ...  ...     ...        ...            ...        ...   \n",
       "9995          771   39       5       0.00              2          1   \n",
       "9996          516   35      10   57369.61              1          1   \n",
       "9997          709   36       7       0.00              1          0   \n",
       "9998          772   42       3   75075.31              2          1   \n",
       "9999          792   28       4  130142.79              1          1   \n",
       "\n",
       "      IsActiveMember  EstimatedSalary  Exited  Geography_Germany  \\\n",
       "0                  1        101348.88       1                  0   \n",
       "1                  1        112542.58       0                  0   \n",
       "2                  0        113931.57       1                  0   \n",
       "3                  0         93826.63       0                  0   \n",
       "4                  1         79084.10       0                  0   \n",
       "...              ...              ...     ...                ...   \n",
       "9995               0         96270.64       0                  0   \n",
       "9996               1        101699.77       0                  0   \n",
       "9997               1         42085.58       1                  0   \n",
       "9998               0         92888.52       1                  1   \n",
       "9999               0         38190.78       0                  0   \n",
       "\n",
       "      Geography_Spain  Gender_Male  \n",
       "0                   0            0  \n",
       "1                   1            0  \n",
       "2                   0            0  \n",
       "3                   0            0  \n",
       "4                   1            0  \n",
       "...               ...          ...  \n",
       "9995                0            1  \n",
       "9996                0            1  \n",
       "9997                0            0  \n",
       "9998                0            1  \n",
       "9999                0            0  \n",
       "\n",
       "[10000 rows x 12 columns]"
      ]
     },
     "execution_count": 15,
     "metadata": {},
     "output_type": "execute_result"
    }
   ],
   "source": [
    "df"
   ]
  },
  {
   "cell_type": "markdown",
   "id": "097ffb65",
   "metadata": {},
   "source": [
    "# Train Test Split Apply:-"
   ]
  },
  {
   "cell_type": "code",
   "execution_count": 16,
   "id": "f234a130",
   "metadata": {},
   "outputs": [],
   "source": [
    "X = df.drop(columns=['Exited'])\n",
    "y = df['Exited']"
   ]
  },
  {
   "cell_type": "code",
   "execution_count": 17,
   "id": "dc797bd9",
   "metadata": {},
   "outputs": [
    {
     "name": "stderr",
     "output_type": "stream",
     "text": [
      "C:\\Users\\hp\\anaconda3\\lib\\site-packages\\scipy\\__init__.py:155: UserWarning: A NumPy version >=1.18.5 and <1.25.0 is required for this version of SciPy (detected version 1.26.2\n",
      "  warnings.warn(f\"A NumPy version >={np_minversion} and <{np_maxversion}\"\n"
     ]
    }
   ],
   "source": [
    "from sklearn.model_selection import train_test_split\n",
    "X_train,X_test,y_train,y_test = train_test_split(X,y,test_size=0.2,random_state=1)"
   ]
  },
  {
   "cell_type": "code",
   "execution_count": 18,
   "id": "05625f03",
   "metadata": {},
   "outputs": [
    {
     "name": "stdout",
     "output_type": "stream",
     "text": [
      "(8000, 11)\n",
      "(2000, 11)\n"
     ]
    }
   ],
   "source": [
    "print(X_train.shape)\n",
    "print(X_test.shape)"
   ]
  },
  {
   "cell_type": "markdown",
   "id": "894857fc",
   "metadata": {},
   "source": [
    "# Apply Scaliing:-"
   ]
  },
  {
   "cell_type": "code",
   "execution_count": 19,
   "id": "b4196e98",
   "metadata": {},
   "outputs": [],
   "source": [
    "from sklearn.preprocessing import StandardScaler\n",
    "scaler = StandardScaler()\n",
    "\n",
    "X_train_scaled = scaler.fit_transform(X_train)\n",
    "X_test_scaled = scaler.fit_transform(X_test)"
   ]
  },
  {
   "cell_type": "code",
   "execution_count": 20,
   "id": "11691a00",
   "metadata": {},
   "outputs": [
    {
     "data": {
      "text/plain": [
       "array([[-0.23082038, -0.94449979, -0.70174202, ...,  1.71490137,\n",
       "        -0.57273139,  0.91509065],\n",
       "       [-0.25150912, -0.94449979, -0.35520275, ..., -0.58312392,\n",
       "        -0.57273139, -1.09278791],\n",
       "       [-0.3963303 ,  0.77498705,  0.33787579, ...,  1.71490137,\n",
       "        -0.57273139, -1.09278791],\n",
       "       ...,\n",
       "       [ 0.22433188,  0.58393295,  1.3774936 , ..., -0.58312392,\n",
       "        -0.57273139, -1.09278791],\n",
       "       [ 0.13123255,  0.01077067,  1.03095433, ..., -0.58312392,\n",
       "        -0.57273139, -1.09278791],\n",
       "       [ 1.1656695 ,  0.29735181,  0.33787579, ...,  1.71490137,\n",
       "        -0.57273139,  0.91509065]])"
      ]
     },
     "execution_count": 20,
     "metadata": {},
     "output_type": "execute_result"
    }
   ],
   "source": [
    "X_train_scaled"
   ]
  },
  {
   "cell_type": "code",
   "execution_count": 21,
   "id": "27f14b67",
   "metadata": {},
   "outputs": [
    {
     "data": {
      "text/plain": [
       "array([[-1.05008411,  0.75175306, -1.01618321, ..., -0.56118125,\n",
       "        -0.57812007,  0.90179633],\n",
       "       [ 0.29631699, -0.47907689, -0.67334137, ..., -0.56118125,\n",
       "        -0.57812007,  0.90179633],\n",
       "       [-1.24686581,  0.27835693, -1.01618321, ..., -0.56118125,\n",
       "        -0.57812007, -1.10889783],\n",
       "       ...,\n",
       "       [-0.87401628, -0.47907689,  1.72655149, ..., -0.56118125,\n",
       "         1.72974448,  0.90179633],\n",
       "       [-0.31474197, -0.85779379, -1.01618321, ...,  1.78195548,\n",
       "        -0.57812007, -1.10889783],\n",
       "       [ 0.0373937 ,  1.22514919,  1.38370966, ...,  1.78195548,\n",
       "        -0.57812007,  0.90179633]])"
      ]
     },
     "execution_count": 21,
     "metadata": {},
     "output_type": "execute_result"
    }
   ],
   "source": [
    "X_test_scaled"
   ]
  },
  {
   "cell_type": "markdown",
   "id": "0860c08a",
   "metadata": {},
   "source": [
    "# Apply Tensorflow"
   ]
  },
  {
   "cell_type": "code",
   "execution_count": 22,
   "id": "7184a87b",
   "metadata": {},
   "outputs": [],
   "source": [
    "##!pip install tensorflow"
   ]
  },
  {
   "cell_type": "code",
   "execution_count": 23,
   "id": "d491ecc1",
   "metadata": {},
   "outputs": [
    {
     "name": "stdout",
     "output_type": "stream",
     "text": [
      "WARNING:tensorflow:From C:\\Users\\hp\\anaconda3\\lib\\site-packages\\keras\\src\\losses.py:2976: The name tf.losses.sparse_softmax_cross_entropy is deprecated. Please use tf.compat.v1.losses.sparse_softmax_cross_entropy instead.\n",
      "\n"
     ]
    }
   ],
   "source": [
    "import tensorflow\n",
    "from tensorflow import keras\n",
    "from tensorflow.keras import Sequential \n",
    "from tensorflow.keras.layers import Dense"
   ]
  },
  {
   "cell_type": "markdown",
   "id": "6e09d702",
   "metadata": {},
   "source": [
    "# Build Modle:-"
   ]
  },
  {
   "cell_type": "code",
   "execution_count": 24,
   "id": "df580def",
   "metadata": {},
   "outputs": [
    {
     "name": "stdout",
     "output_type": "stream",
     "text": [
      "WARNING:tensorflow:From C:\\Users\\hp\\anaconda3\\lib\\site-packages\\keras\\src\\backend.py:873: The name tf.get_default_graph is deprecated. Please use tf.compat.v1.get_default_graph instead.\n",
      "\n"
     ]
    }
   ],
   "source": [
    "model = Sequential()"
   ]
  },
  {
   "cell_type": "markdown",
   "id": "93426779",
   "metadata": {},
   "source": [
    "# Layer Add:-"
   ]
  },
  {
   "cell_type": "code",
   "execution_count": 25,
   "id": "7f6209b3",
   "metadata": {},
   "outputs": [],
   "source": [
    "model.add(Dense(3,activation='sigmoid',input_dim=11))\n",
    "model.add(Dense(1,activation='sigmoid'))"
   ]
  },
  {
   "cell_type": "code",
   "execution_count": 26,
   "id": "c065c46b",
   "metadata": {},
   "outputs": [
    {
     "name": "stdout",
     "output_type": "stream",
     "text": [
      "Model: \"sequential\"\n",
      "_________________________________________________________________\n",
      " Layer (type)                Output Shape              Param #   \n",
      "=================================================================\n",
      " dense (Dense)               (None, 3)                 36        \n",
      "                                                                 \n",
      " dense_1 (Dense)             (None, 1)                 4         \n",
      "                                                                 \n",
      "=================================================================\n",
      "Total params: 40 (160.00 Byte)\n",
      "Trainable params: 40 (160.00 Byte)\n",
      "Non-trainable params: 0 (0.00 Byte)\n",
      "_________________________________________________________________\n"
     ]
    }
   ],
   "source": [
    "model.summary()"
   ]
  },
  {
   "cell_type": "code",
   "execution_count": 27,
   "id": "1e9aeb03",
   "metadata": {},
   "outputs": [
    {
     "name": "stdout",
     "output_type": "stream",
     "text": [
      "WARNING:tensorflow:From C:\\Users\\hp\\anaconda3\\lib\\site-packages\\keras\\src\\optimizers\\__init__.py:309: The name tf.train.Optimizer is deprecated. Please use tf.compat.v1.train.Optimizer instead.\n",
      "\n"
     ]
    }
   ],
   "source": [
    "model.compile(loss='binary_crossentropy',optimizer='Adam')"
   ]
  },
  {
   "cell_type": "code",
   "execution_count": 28,
   "id": "09d9942a",
   "metadata": {},
   "outputs": [
    {
     "name": "stdout",
     "output_type": "stream",
     "text": [
      "Epoch 1/10\n",
      "WARNING:tensorflow:From C:\\Users\\hp\\anaconda3\\lib\\site-packages\\keras\\src\\utils\\tf_utils.py:492: The name tf.ragged.RaggedTensorValue is deprecated. Please use tf.compat.v1.ragged.RaggedTensorValue instead.\n",
      "\n",
      "250/250 [==============================] - 1s 2ms/step - loss: 0.5373\n",
      "Epoch 2/10\n",
      "250/250 [==============================] - 0s 2ms/step - loss: 0.4910\n",
      "Epoch 3/10\n",
      "250/250 [==============================] - 0s 2ms/step - loss: 0.4695\n",
      "Epoch 4/10\n",
      "250/250 [==============================] - 0s 2ms/step - loss: 0.4555\n",
      "Epoch 5/10\n",
      "250/250 [==============================] - 0s 2ms/step - loss: 0.4458\n",
      "Epoch 6/10\n",
      "250/250 [==============================] - 0s 2ms/step - loss: 0.4392\n",
      "Epoch 7/10\n",
      "250/250 [==============================] - 0s 2ms/step - loss: 0.4348\n",
      "Epoch 8/10\n",
      "250/250 [==============================] - 0s 2ms/step - loss: 0.4318\n",
      "Epoch 9/10\n",
      "250/250 [==============================] - 0s 2ms/step - loss: 0.4298\n",
      "Epoch 10/10\n",
      "250/250 [==============================] - 0s 2ms/step - loss: 0.4283\n"
     ]
    },
    {
     "data": {
      "text/plain": [
       "<keras.src.callbacks.History at 0x2600781fe50>"
      ]
     },
     "execution_count": 28,
     "metadata": {},
     "output_type": "execute_result"
    }
   ],
   "source": [
    "model.fit(X_train_scaled,y_train,epochs=10)"
   ]
  },
  {
   "cell_type": "markdown",
   "id": "1991f787",
   "metadata": {},
   "source": [
    "# Check Weights & Bias Value:-"
   ]
  },
  {
   "cell_type": "code",
   "execution_count": 29,
   "id": "c3b767cf",
   "metadata": {},
   "outputs": [
    {
     "data": {
      "text/plain": [
       "[array([[ 0.0343276 ,  0.19116068,  0.30202928],\n",
       "        [-1.1965138 ,  1.0022984 , -0.57652456],\n",
       "        [-0.3098455 , -0.4119397 ,  0.1957016 ],\n",
       "        [-0.18286425, -0.10143045, -0.29465756],\n",
       "        [ 0.54349697,  0.34478924,  0.04667669],\n",
       "        [ 0.15993097, -0.3477546 , -0.35055816],\n",
       "        [ 0.3132315 , -0.90083385,  0.61525244],\n",
       "        [-0.2210747 ,  0.2937721 ,  0.38398245],\n",
       "        [-0.25745407,  0.60059285, -0.5014581 ],\n",
       "        [-0.13257375,  0.07520428,  0.11575262],\n",
       "        [ 0.13372776,  0.01139896,  0.81284475]], dtype=float32),\n",
       " array([ 0.41656756, -0.3623729 ,  0.3641053 ], dtype=float32)]"
      ]
     },
     "execution_count": 29,
     "metadata": {},
     "output_type": "execute_result"
    }
   ],
   "source": [
    "model.layers[0].get_weights()"
   ]
  },
  {
   "cell_type": "code",
   "execution_count": 30,
   "id": "055df2ba",
   "metadata": {},
   "outputs": [
    {
     "data": {
      "text/plain": [
       "[array([[-1.6586651],\n",
       "        [ 1.0290421],\n",
       "        [-1.4266254]], dtype=float32),\n",
       " array([-0.27411175], dtype=float32)]"
      ]
     },
     "execution_count": 30,
     "metadata": {},
     "output_type": "execute_result"
    }
   ],
   "source": [
    "model.layers[1].get_weights()"
   ]
  },
  {
   "cell_type": "code",
   "execution_count": 31,
   "id": "0fce7c8e",
   "metadata": {},
   "outputs": [
    {
     "name": "stdout",
     "output_type": "stream",
     "text": [
      "63/63 [==============================] - 0s 2ms/step\n"
     ]
    },
    {
     "data": {
      "text/plain": [
       "array([[0.09780886],\n",
       "       [0.13993043],\n",
       "       [0.12477201],\n",
       "       ...,\n",
       "       [0.06412836],\n",
       "       [0.14558549],\n",
       "       [0.35740587]], dtype=float32)"
      ]
     },
     "execution_count": 31,
     "metadata": {},
     "output_type": "execute_result"
    }
   ],
   "source": [
    "model.predict(X_test_scaled)"
   ]
  },
  {
   "cell_type": "code",
   "execution_count": 32,
   "id": "c307b067",
   "metadata": {},
   "outputs": [
    {
     "name": "stdout",
     "output_type": "stream",
     "text": [
      "63/63 [==============================] - 0s 2ms/step\n"
     ]
    }
   ],
   "source": [
    "y_log = model.predict(X_test_scaled)"
   ]
  },
  {
   "cell_type": "code",
   "execution_count": 33,
   "id": "e13db53c",
   "metadata": {},
   "outputs": [],
   "source": [
    "import numpy as np\n",
    "y_pred = np.where(y_log>0.5,1,0)"
   ]
  },
  {
   "cell_type": "code",
   "execution_count": 34,
   "id": "fa072911",
   "metadata": {},
   "outputs": [
    {
     "data": {
      "text/plain": [
       "array([[0],\n",
       "       [0],\n",
       "       [0],\n",
       "       ...,\n",
       "       [0],\n",
       "       [0],\n",
       "       [0]])"
      ]
     },
     "execution_count": 34,
     "metadata": {},
     "output_type": "execute_result"
    }
   ],
   "source": [
    "y_pred"
   ]
  },
  {
   "cell_type": "markdown",
   "id": "ebf83d02",
   "metadata": {},
   "source": [
    "# Check Accuracy Score:-"
   ]
  },
  {
   "cell_type": "code",
   "execution_count": 35,
   "id": "431f3341",
   "metadata": {},
   "outputs": [],
   "source": [
    "from sklearn.metrics import accuracy_score"
   ]
  },
  {
   "cell_type": "code",
   "execution_count": 36,
   "id": "184148f7",
   "metadata": {},
   "outputs": [
    {
     "data": {
      "text/plain": [
       "0.8085"
      ]
     },
     "execution_count": 36,
     "metadata": {},
     "output_type": "execute_result"
    }
   ],
   "source": [
    "accuracy_score(y_test,y_pred)"
   ]
  },
  {
   "cell_type": "markdown",
   "id": "27b11e26",
   "metadata": {},
   "source": [
    "# Immprove Accuracy:-"
   ]
  },
  {
   "cell_type": "code",
   "execution_count": 37,
   "id": "a8ad443a",
   "metadata": {},
   "outputs": [],
   "source": [
    "model = Sequential()\n",
    "\n",
    "model.add(Dense(11,activation='relu',input_dim=11))\n",
    "model.add(Dense(11,activation='relu'))\n",
    "model.add(Dense(1,activation='sigmoid'))"
   ]
  },
  {
   "cell_type": "code",
   "execution_count": 38,
   "id": "1bbcfd14",
   "metadata": {},
   "outputs": [
    {
     "name": "stdout",
     "output_type": "stream",
     "text": [
      "Model: \"sequential_1\"\n",
      "_________________________________________________________________\n",
      " Layer (type)                Output Shape              Param #   \n",
      "=================================================================\n",
      " dense_2 (Dense)             (None, 11)                132       \n",
      "                                                                 \n",
      " dense_3 (Dense)             (None, 11)                132       \n",
      "                                                                 \n",
      " dense_4 (Dense)             (None, 1)                 12        \n",
      "                                                                 \n",
      "=================================================================\n",
      "Total params: 276 (1.08 KB)\n",
      "Trainable params: 276 (1.08 KB)\n",
      "Non-trainable params: 0 (0.00 Byte)\n",
      "_________________________________________________________________\n"
     ]
    }
   ],
   "source": [
    "model.summary()"
   ]
  },
  {
   "cell_type": "code",
   "execution_count": 39,
   "id": "ad5e087d",
   "metadata": {},
   "outputs": [],
   "source": [
    "model.compile(optimizer='Adam',loss='binary_crossentropy',metrics=['accuracy'])"
   ]
  },
  {
   "cell_type": "code",
   "execution_count": 40,
   "id": "0dc85b49",
   "metadata": {},
   "outputs": [
    {
     "name": "stdout",
     "output_type": "stream",
     "text": [
      "Epoch 1/100\n",
      "WARNING:tensorflow:From C:\\Users\\hp\\anaconda3\\lib\\site-packages\\keras\\src\\engine\\base_layer_utils.py:384: The name tf.executing_eagerly_outside_functions is deprecated. Please use tf.compat.v1.executing_eagerly_outside_functions instead.\n",
      "\n",
      "128/128 [==============================] - 1s 4ms/step - loss: 4142.9189 - accuracy: 0.7116 - val_loss: 99.9770 - val_accuracy: 0.7481\n",
      "Epoch 2/100\n",
      "128/128 [==============================] - 0s 3ms/step - loss: 71.3619 - accuracy: 0.6458 - val_loss: 22.2934 - val_accuracy: 0.7681\n",
      "Epoch 3/100\n",
      "128/128 [==============================] - 0s 3ms/step - loss: 40.9250 - accuracy: 0.6764 - val_loss: 67.9041 - val_accuracy: 0.5487\n",
      "Epoch 4/100\n",
      "128/128 [==============================] - 0s 3ms/step - loss: 53.6044 - accuracy: 0.6712 - val_loss: 11.5686 - val_accuracy: 0.5894\n",
      "Epoch 5/100\n",
      "128/128 [==============================] - 0s 3ms/step - loss: 35.9231 - accuracy: 0.6737 - val_loss: 93.5556 - val_accuracy: 0.4694\n",
      "Epoch 6/100\n",
      "128/128 [==============================] - 0s 3ms/step - loss: 60.7288 - accuracy: 0.6842 - val_loss: 45.8887 - val_accuracy: 0.5150\n",
      "Epoch 7/100\n",
      "128/128 [==============================] - 0s 3ms/step - loss: 64.1499 - accuracy: 0.6783 - val_loss: 19.6866 - val_accuracy: 0.7387\n",
      "Epoch 8/100\n",
      "128/128 [==============================] - 0s 3ms/step - loss: 43.0780 - accuracy: 0.6723 - val_loss: 41.6047 - val_accuracy: 0.7356\n",
      "Epoch 9/100\n",
      "128/128 [==============================] - 0s 3ms/step - loss: 43.7192 - accuracy: 0.6714 - val_loss: 14.5150 - val_accuracy: 0.7206\n",
      "Epoch 10/100\n",
      "128/128 [==============================] - 0s 3ms/step - loss: 42.4344 - accuracy: 0.6739 - val_loss: 24.3681 - val_accuracy: 0.5981\n",
      "Epoch 11/100\n",
      "128/128 [==============================] - 0s 3ms/step - loss: 48.8420 - accuracy: 0.6762 - val_loss: 45.5127 - val_accuracy: 0.5275\n",
      "Epoch 12/100\n",
      "128/128 [==============================] - 0s 3ms/step - loss: 48.1184 - accuracy: 0.6719 - val_loss: 70.3382 - val_accuracy: 0.4725\n",
      "Epoch 13/100\n",
      "128/128 [==============================] - 0s 3ms/step - loss: 60.6594 - accuracy: 0.6786 - val_loss: 55.1236 - val_accuracy: 0.5169\n",
      "Epoch 14/100\n",
      "128/128 [==============================] - 0s 3ms/step - loss: 46.1860 - accuracy: 0.6791 - val_loss: 54.4341 - val_accuracy: 0.7975\n",
      "Epoch 15/100\n",
      "128/128 [==============================] - 0s 3ms/step - loss: 48.9254 - accuracy: 0.6864 - val_loss: 80.5214 - val_accuracy: 0.7975\n",
      "Epoch 16/100\n",
      "128/128 [==============================] - 0s 3ms/step - loss: 56.6598 - accuracy: 0.6772 - val_loss: 193.6412 - val_accuracy: 0.7975\n",
      "Epoch 17/100\n",
      "128/128 [==============================] - 0s 3ms/step - loss: 47.1241 - accuracy: 0.6836 - val_loss: 19.0021 - val_accuracy: 0.7713\n",
      "Epoch 18/100\n",
      "128/128 [==============================] - 0s 3ms/step - loss: 60.0619 - accuracy: 0.6858 - val_loss: 65.6979 - val_accuracy: 0.7975\n",
      "Epoch 19/100\n",
      "128/128 [==============================] - 0s 3ms/step - loss: 49.2105 - accuracy: 0.6817 - val_loss: 32.7686 - val_accuracy: 0.7525\n",
      "Epoch 20/100\n",
      "128/128 [==============================] - 0s 3ms/step - loss: 58.3970 - accuracy: 0.6795 - val_loss: 25.0868 - val_accuracy: 0.7962\n",
      "Epoch 21/100\n",
      "128/128 [==============================] - 0s 3ms/step - loss: 50.6841 - accuracy: 0.6795 - val_loss: 41.2042 - val_accuracy: 0.5288\n",
      "Epoch 22/100\n",
      "128/128 [==============================] - 0s 3ms/step - loss: 62.9590 - accuracy: 0.6775 - val_loss: 50.8135 - val_accuracy: 0.7975\n",
      "Epoch 23/100\n",
      "128/128 [==============================] - 0s 3ms/step - loss: 46.8273 - accuracy: 0.6842 - val_loss: 80.4724 - val_accuracy: 0.7969\n",
      "Epoch 24/100\n",
      "128/128 [==============================] - 0s 3ms/step - loss: 52.6972 - accuracy: 0.6906 - val_loss: 217.2794 - val_accuracy: 0.7975\n",
      "Epoch 25/100\n",
      "128/128 [==============================] - 0s 3ms/step - loss: 58.1646 - accuracy: 0.6975 - val_loss: 17.6962 - val_accuracy: 0.7819\n",
      "Epoch 26/100\n",
      "128/128 [==============================] - 0s 3ms/step - loss: 30.9495 - accuracy: 0.6914 - val_loss: 19.5849 - val_accuracy: 0.7956\n",
      "Epoch 27/100\n",
      "128/128 [==============================] - 0s 3ms/step - loss: 44.4438 - accuracy: 0.6886 - val_loss: 29.8784 - val_accuracy: 0.7925\n",
      "Epoch 28/100\n",
      "128/128 [==============================] - 0s 3ms/step - loss: 35.9917 - accuracy: 0.6850 - val_loss: 15.1184 - val_accuracy: 0.7819\n",
      "Epoch 29/100\n",
      "128/128 [==============================] - 0s 2ms/step - loss: 51.7756 - accuracy: 0.6761 - val_loss: 43.9154 - val_accuracy: 0.7969\n",
      "Epoch 30/100\n",
      "128/128 [==============================] - 0s 2ms/step - loss: 36.3863 - accuracy: 0.6883 - val_loss: 44.2167 - val_accuracy: 0.7931\n",
      "Epoch 31/100\n",
      "128/128 [==============================] - 0s 3ms/step - loss: 44.9409 - accuracy: 0.6859 - val_loss: 41.3210 - val_accuracy: 0.5375\n",
      "Epoch 32/100\n",
      "128/128 [==============================] - 0s 3ms/step - loss: 41.0940 - accuracy: 0.6775 - val_loss: 36.4068 - val_accuracy: 0.2387\n",
      "Epoch 33/100\n",
      "128/128 [==============================] - 0s 3ms/step - loss: 43.9187 - accuracy: 0.6820 - val_loss: 25.7815 - val_accuracy: 0.7900\n",
      "Epoch 34/100\n",
      "128/128 [==============================] - 0s 3ms/step - loss: 43.0854 - accuracy: 0.6847 - val_loss: 33.5014 - val_accuracy: 0.7725\n",
      "Epoch 35/100\n",
      "128/128 [==============================] - 0s 3ms/step - loss: 41.0967 - accuracy: 0.6783 - val_loss: 102.8635 - val_accuracy: 0.7969\n",
      "Epoch 36/100\n",
      "128/128 [==============================] - 0s 3ms/step - loss: 43.5976 - accuracy: 0.6894 - val_loss: 40.9416 - val_accuracy: 0.7825\n",
      "Epoch 37/100\n",
      "128/128 [==============================] - 0s 3ms/step - loss: 40.7981 - accuracy: 0.6844 - val_loss: 18.0858 - val_accuracy: 0.7506\n",
      "Epoch 38/100\n",
      "128/128 [==============================] - 0s 3ms/step - loss: 48.3316 - accuracy: 0.6903 - val_loss: 33.4590 - val_accuracy: 0.7919\n",
      "Epoch 39/100\n",
      "128/128 [==============================] - 0s 3ms/step - loss: 55.1801 - accuracy: 0.6806 - val_loss: 118.2123 - val_accuracy: 0.2219\n",
      "Epoch 40/100\n",
      "128/128 [==============================] - 0s 3ms/step - loss: 34.1929 - accuracy: 0.6947 - val_loss: 12.3711 - val_accuracy: 0.7769\n",
      "Epoch 41/100\n",
      "128/128 [==============================] - 0s 3ms/step - loss: 27.9749 - accuracy: 0.6853 - val_loss: 33.6881 - val_accuracy: 0.7944\n",
      "Epoch 42/100\n",
      "128/128 [==============================] - 0s 3ms/step - loss: 44.8979 - accuracy: 0.6861 - val_loss: 30.2952 - val_accuracy: 0.7919\n",
      "Epoch 43/100\n",
      "128/128 [==============================] - 0s 3ms/step - loss: 42.5836 - accuracy: 0.6833 - val_loss: 67.5698 - val_accuracy: 0.7900\n",
      "Epoch 44/100\n",
      "128/128 [==============================] - 0s 3ms/step - loss: 38.5789 - accuracy: 0.6802 - val_loss: 82.9100 - val_accuracy: 0.7969\n",
      "Epoch 45/100\n",
      "128/128 [==============================] - 0s 3ms/step - loss: 57.6140 - accuracy: 0.6877 - val_loss: 12.0562 - val_accuracy: 0.7256\n",
      "Epoch 46/100\n",
      "128/128 [==============================] - 0s 3ms/step - loss: 42.7028 - accuracy: 0.6922 - val_loss: 94.7950 - val_accuracy: 0.4644\n",
      "Epoch 47/100\n",
      "128/128 [==============================] - 0s 3ms/step - loss: 48.1440 - accuracy: 0.6803 - val_loss: 77.6078 - val_accuracy: 0.7962\n",
      "Epoch 48/100\n",
      "128/128 [==============================] - 0s 3ms/step - loss: 36.9269 - accuracy: 0.6913 - val_loss: 18.7836 - val_accuracy: 0.4856\n",
      "Epoch 49/100\n",
      "128/128 [==============================] - 0s 3ms/step - loss: 51.6059 - accuracy: 0.6944 - val_loss: 70.5137 - val_accuracy: 0.4469\n",
      "Epoch 50/100\n",
      "128/128 [==============================] - 0s 3ms/step - loss: 39.7088 - accuracy: 0.6856 - val_loss: 23.3908 - val_accuracy: 0.7912\n",
      "Epoch 51/100\n",
      "128/128 [==============================] - 0s 3ms/step - loss: 34.7454 - accuracy: 0.6850 - val_loss: 20.2882 - val_accuracy: 0.6331\n",
      "Epoch 52/100\n",
      "128/128 [==============================] - 0s 3ms/step - loss: 37.6287 - accuracy: 0.6853 - val_loss: 31.1619 - val_accuracy: 0.7969\n",
      "Epoch 53/100\n",
      "128/128 [==============================] - 0s 3ms/step - loss: 42.5952 - accuracy: 0.6966 - val_loss: 37.7073 - val_accuracy: 0.7937\n",
      "Epoch 54/100\n",
      "128/128 [==============================] - 0s 3ms/step - loss: 33.7776 - accuracy: 0.6844 - val_loss: 40.4397 - val_accuracy: 0.7969\n",
      "Epoch 55/100\n"
     ]
    },
    {
     "name": "stdout",
     "output_type": "stream",
     "text": [
      "128/128 [==============================] - 0s 2ms/step - loss: 47.0419 - accuracy: 0.6911 - val_loss: 31.0733 - val_accuracy: 0.7956\n",
      "Epoch 56/100\n",
      "128/128 [==============================] - 0s 3ms/step - loss: 48.0067 - accuracy: 0.6888 - val_loss: 77.0509 - val_accuracy: 0.3144\n",
      "Epoch 57/100\n",
      "128/128 [==============================] - 0s 3ms/step - loss: 42.1302 - accuracy: 0.6888 - val_loss: 38.9727 - val_accuracy: 0.5150\n",
      "Epoch 58/100\n",
      "128/128 [==============================] - 0s 3ms/step - loss: 40.3503 - accuracy: 0.6862 - val_loss: 30.2915 - val_accuracy: 0.7819\n",
      "Epoch 59/100\n",
      "128/128 [==============================] - 0s 3ms/step - loss: 38.9639 - accuracy: 0.6872 - val_loss: 27.9551 - val_accuracy: 0.7775\n",
      "Epoch 60/100\n",
      "128/128 [==============================] - 0s 3ms/step - loss: 31.7384 - accuracy: 0.6837 - val_loss: 40.4546 - val_accuracy: 0.7969\n",
      "Epoch 61/100\n",
      "128/128 [==============================] - 0s 3ms/step - loss: 45.4785 - accuracy: 0.6817 - val_loss: 23.0850 - val_accuracy: 0.4381\n",
      "Epoch 62/100\n",
      "128/128 [==============================] - 0s 3ms/step - loss: 33.6433 - accuracy: 0.6934 - val_loss: 15.2716 - val_accuracy: 0.5481\n",
      "Epoch 63/100\n",
      "128/128 [==============================] - 0s 3ms/step - loss: 35.3477 - accuracy: 0.6805 - val_loss: 32.8709 - val_accuracy: 0.7937\n",
      "Epoch 64/100\n",
      "128/128 [==============================] - 0s 3ms/step - loss: 40.8885 - accuracy: 0.6894 - val_loss: 30.3022 - val_accuracy: 0.5456\n",
      "Epoch 65/100\n",
      "128/128 [==============================] - 0s 2ms/step - loss: 45.7343 - accuracy: 0.6878 - val_loss: 100.1041 - val_accuracy: 0.7969\n",
      "Epoch 66/100\n",
      "128/128 [==============================] - 0s 3ms/step - loss: 34.2241 - accuracy: 0.6878 - val_loss: 87.0271 - val_accuracy: 0.7962\n",
      "Epoch 67/100\n",
      "128/128 [==============================] - 0s 2ms/step - loss: 70.8727 - accuracy: 0.6811 - val_loss: 25.3370 - val_accuracy: 0.5544\n",
      "Epoch 68/100\n",
      "128/128 [==============================] - 0s 2ms/step - loss: 45.5954 - accuracy: 0.6866 - val_loss: 33.8217 - val_accuracy: 0.7912\n",
      "Epoch 69/100\n",
      "128/128 [==============================] - 0s 3ms/step - loss: 34.5003 - accuracy: 0.6947 - val_loss: 18.1109 - val_accuracy: 0.7156\n",
      "Epoch 70/100\n",
      "128/128 [==============================] - 0s 3ms/step - loss: 36.6052 - accuracy: 0.6894 - val_loss: 45.7988 - val_accuracy: 0.7950\n",
      "Epoch 71/100\n",
      "128/128 [==============================] - 0s 3ms/step - loss: 50.9669 - accuracy: 0.6870 - val_loss: 44.3956 - val_accuracy: 0.5044\n",
      "Epoch 72/100\n",
      "128/128 [==============================] - 0s 3ms/step - loss: 34.9935 - accuracy: 0.6920 - val_loss: 19.0094 - val_accuracy: 0.5500\n",
      "Epoch 73/100\n",
      "128/128 [==============================] - 0s 3ms/step - loss: 33.4798 - accuracy: 0.6867 - val_loss: 16.9871 - val_accuracy: 0.7944\n",
      "Epoch 74/100\n",
      "128/128 [==============================] - 0s 2ms/step - loss: 43.5377 - accuracy: 0.6786 - val_loss: 44.9045 - val_accuracy: 0.7912\n",
      "Epoch 75/100\n",
      "128/128 [==============================] - 0s 3ms/step - loss: 35.2529 - accuracy: 0.6880 - val_loss: 17.5414 - val_accuracy: 0.7206\n",
      "Epoch 76/100\n",
      "128/128 [==============================] - 0s 3ms/step - loss: 28.2766 - accuracy: 0.6892 - val_loss: 42.5959 - val_accuracy: 0.7969\n",
      "Epoch 77/100\n",
      "128/128 [==============================] - 0s 3ms/step - loss: 42.0965 - accuracy: 0.6847 - val_loss: 62.4145 - val_accuracy: 0.5019\n",
      "Epoch 78/100\n",
      "128/128 [==============================] - 0s 3ms/step - loss: 32.5568 - accuracy: 0.6908 - val_loss: 22.9336 - val_accuracy: 0.4850\n",
      "Epoch 79/100\n",
      "128/128 [==============================] - 0s 3ms/step - loss: 33.5604 - accuracy: 0.6938 - val_loss: 76.7825 - val_accuracy: 0.7962\n",
      "Epoch 80/100\n",
      "128/128 [==============================] - 0s 3ms/step - loss: 70.7454 - accuracy: 0.6867 - val_loss: 37.7522 - val_accuracy: 0.7962\n",
      "Epoch 81/100\n",
      "128/128 [==============================] - 0s 2ms/step - loss: 32.1214 - accuracy: 0.6872 - val_loss: 40.0814 - val_accuracy: 0.7944\n",
      "Epoch 82/100\n",
      "128/128 [==============================] - 0s 2ms/step - loss: 29.7167 - accuracy: 0.6897 - val_loss: 17.1883 - val_accuracy: 0.7950\n",
      "Epoch 83/100\n",
      "128/128 [==============================] - 0s 2ms/step - loss: 46.8334 - accuracy: 0.6886 - val_loss: 38.4833 - val_accuracy: 0.7969\n",
      "Epoch 84/100\n",
      "128/128 [==============================] - 0s 3ms/step - loss: 28.2012 - accuracy: 0.6897 - val_loss: 75.2081 - val_accuracy: 0.7931\n",
      "Epoch 85/100\n",
      "128/128 [==============================] - 1s 5ms/step - loss: 41.8184 - accuracy: 0.6917 - val_loss: 15.7821 - val_accuracy: 0.7919\n",
      "Epoch 86/100\n",
      "128/128 [==============================] - 0s 3ms/step - loss: 38.4254 - accuracy: 0.7017 - val_loss: 50.5307 - val_accuracy: 0.7962\n",
      "Epoch 87/100\n",
      "128/128 [==============================] - 0s 4ms/step - loss: 38.6999 - accuracy: 0.7027 - val_loss: 46.4408 - val_accuracy: 0.4812\n",
      "Epoch 88/100\n",
      "128/128 [==============================] - 0s 3ms/step - loss: 41.8501 - accuracy: 0.6883 - val_loss: 32.3544 - val_accuracy: 0.7925\n",
      "Epoch 89/100\n",
      "128/128 [==============================] - 0s 3ms/step - loss: 38.7284 - accuracy: 0.6828 - val_loss: 29.9910 - val_accuracy: 0.7931\n",
      "Epoch 90/100\n",
      "128/128 [==============================] - 0s 2ms/step - loss: 38.4224 - accuracy: 0.6862 - val_loss: 23.7349 - val_accuracy: 0.5319\n",
      "Epoch 91/100\n",
      "128/128 [==============================] - 0s 2ms/step - loss: 43.0117 - accuracy: 0.6902 - val_loss: 128.1575 - val_accuracy: 0.7962\n",
      "Epoch 92/100\n",
      "128/128 [==============================] - 0s 2ms/step - loss: 47.3184 - accuracy: 0.6920 - val_loss: 186.1425 - val_accuracy: 0.7962\n",
      "Epoch 93/100\n",
      "128/128 [==============================] - 0s 3ms/step - loss: 44.2077 - accuracy: 0.6881 - val_loss: 37.9185 - val_accuracy: 0.4731\n",
      "Epoch 94/100\n",
      "128/128 [==============================] - 0s 3ms/step - loss: 30.0273 - accuracy: 0.6983 - val_loss: 19.2386 - val_accuracy: 0.5794\n",
      "Epoch 95/100\n",
      "128/128 [==============================] - 0s 2ms/step - loss: 52.6544 - accuracy: 0.6958 - val_loss: 75.3772 - val_accuracy: 0.2656\n",
      "Epoch 96/100\n",
      "128/128 [==============================] - 0s 2ms/step - loss: 35.8500 - accuracy: 0.6867 - val_loss: 13.3533 - val_accuracy: 0.5906\n",
      "Epoch 97/100\n",
      "128/128 [==============================] - 0s 2ms/step - loss: 28.6781 - accuracy: 0.6989 - val_loss: 53.5126 - val_accuracy: 0.2475\n",
      "Epoch 98/100\n",
      "128/128 [==============================] - 0s 3ms/step - loss: 40.9840 - accuracy: 0.6873 - val_loss: 47.9880 - val_accuracy: 0.7950\n",
      "Epoch 99/100\n",
      "128/128 [==============================] - 0s 3ms/step - loss: 28.4194 - accuracy: 0.6903 - val_loss: 33.2662 - val_accuracy: 0.7969\n",
      "Epoch 100/100\n",
      "128/128 [==============================] - 0s 3ms/step - loss: 34.9214 - accuracy: 0.6862 - val_loss: 19.2256 - val_accuracy: 0.7919\n"
     ]
    }
   ],
   "source": [
    "history = model.fit(X_train,y_train,batch_size=50,epochs=100,verbose=1,validation_split=0.2)"
   ]
  },
  {
   "cell_type": "code",
   "execution_count": 41,
   "id": "d2865d11",
   "metadata": {},
   "outputs": [
    {
     "name": "stdout",
     "output_type": "stream",
     "text": [
      "63/63 [==============================] - 0s 2ms/step\n"
     ]
    },
    {
     "data": {
      "text/plain": [
       "array([[0.02110102],\n",
       "       [0.45601472],\n",
       "       [0.21689782],\n",
       "       ...,\n",
       "       [0.00540208],\n",
       "       [0.767062  ],\n",
       "       [0.46350622]], dtype=float32)"
      ]
     },
     "execution_count": 41,
     "metadata": {},
     "output_type": "execute_result"
    }
   ],
   "source": [
    "y_log = model.predict(X_test_scaled)\n",
    "y_log"
   ]
  },
  {
   "cell_type": "code",
   "execution_count": 42,
   "id": "cb7b01f7",
   "metadata": {},
   "outputs": [
    {
     "data": {
      "text/plain": [
       "array([[0],\n",
       "       [0],\n",
       "       [0],\n",
       "       ...,\n",
       "       [0],\n",
       "       [1],\n",
       "       [0]])"
      ]
     },
     "execution_count": 42,
     "metadata": {},
     "output_type": "execute_result"
    }
   ],
   "source": [
    "y_pred = np.where(y_log>0.5,1,0)\n",
    "y_pred"
   ]
  },
  {
   "cell_type": "code",
   "execution_count": 43,
   "id": "0e279fec",
   "metadata": {},
   "outputs": [
    {
     "data": {
      "text/plain": [
       "0.6595"
      ]
     },
     "execution_count": 43,
     "metadata": {},
     "output_type": "execute_result"
    }
   ],
   "source": [
    "accuracy_score(y_test,y_pred)"
   ]
  },
  {
   "cell_type": "code",
   "execution_count": 44,
   "id": "bc3b4e67",
   "metadata": {},
   "outputs": [],
   "source": [
    "import matplotlib.pyplot as plt"
   ]
  },
  {
   "cell_type": "code",
   "execution_count": 45,
   "id": "016e9459",
   "metadata": {},
   "outputs": [
    {
     "data": {
      "text/plain": [
       "{'loss': [4142.9189453125,\n",
       "  71.3619155883789,\n",
       "  40.92496871948242,\n",
       "  53.60443878173828,\n",
       "  35.923065185546875,\n",
       "  60.72877502441406,\n",
       "  64.14994812011719,\n",
       "  43.07803726196289,\n",
       "  43.7192268371582,\n",
       "  42.43437576293945,\n",
       "  48.841976165771484,\n",
       "  48.118404388427734,\n",
       "  60.6594123840332,\n",
       "  46.186004638671875,\n",
       "  48.925357818603516,\n",
       "  56.659812927246094,\n",
       "  47.124141693115234,\n",
       "  60.06187057495117,\n",
       "  49.210514068603516,\n",
       "  58.396995544433594,\n",
       "  50.68412780761719,\n",
       "  62.95899963378906,\n",
       "  46.82730484008789,\n",
       "  52.69719696044922,\n",
       "  58.164615631103516,\n",
       "  30.949542999267578,\n",
       "  44.44384765625,\n",
       "  35.9917106628418,\n",
       "  51.77561569213867,\n",
       "  36.3863410949707,\n",
       "  44.94089889526367,\n",
       "  41.09404754638672,\n",
       "  43.91868209838867,\n",
       "  43.08536148071289,\n",
       "  41.096675872802734,\n",
       "  43.597591400146484,\n",
       "  40.7980842590332,\n",
       "  48.3315544128418,\n",
       "  55.180084228515625,\n",
       "  34.192893981933594,\n",
       "  27.974916458129883,\n",
       "  44.8979377746582,\n",
       "  42.58357238769531,\n",
       "  38.578880310058594,\n",
       "  57.61397933959961,\n",
       "  42.702796936035156,\n",
       "  48.143959045410156,\n",
       "  36.92687225341797,\n",
       "  51.60594177246094,\n",
       "  39.708797454833984,\n",
       "  34.745426177978516,\n",
       "  37.62867736816406,\n",
       "  42.59516525268555,\n",
       "  33.77756881713867,\n",
       "  47.041927337646484,\n",
       "  48.006710052490234,\n",
       "  42.13021469116211,\n",
       "  40.350303649902344,\n",
       "  38.963890075683594,\n",
       "  31.738422393798828,\n",
       "  45.478511810302734,\n",
       "  33.643253326416016,\n",
       "  35.347747802734375,\n",
       "  40.888465881347656,\n",
       "  45.734344482421875,\n",
       "  34.22408676147461,\n",
       "  70.8727035522461,\n",
       "  45.59537124633789,\n",
       "  34.50025177001953,\n",
       "  36.60518264770508,\n",
       "  50.96686553955078,\n",
       "  34.993465423583984,\n",
       "  33.479835510253906,\n",
       "  43.537723541259766,\n",
       "  35.25294494628906,\n",
       "  28.276647567749023,\n",
       "  42.096458435058594,\n",
       "  32.55683135986328,\n",
       "  33.56037902832031,\n",
       "  70.74540710449219,\n",
       "  32.121395111083984,\n",
       "  29.71673011779785,\n",
       "  46.83338928222656,\n",
       "  28.201210021972656,\n",
       "  41.818443298339844,\n",
       "  38.42539978027344,\n",
       "  38.699867248535156,\n",
       "  41.85006332397461,\n",
       "  38.7284049987793,\n",
       "  38.422428131103516,\n",
       "  43.011741638183594,\n",
       "  47.318424224853516,\n",
       "  44.20772933959961,\n",
       "  30.02727508544922,\n",
       "  52.65443420410156,\n",
       "  35.850040435791016,\n",
       "  28.678064346313477,\n",
       "  40.98402786254883,\n",
       "  28.419397354125977,\n",
       "  34.92143249511719],\n",
       " 'accuracy': [0.7115625143051147,\n",
       "  0.6457812786102295,\n",
       "  0.6764062643051147,\n",
       "  0.6712499856948853,\n",
       "  0.6737499833106995,\n",
       "  0.6842187643051147,\n",
       "  0.6782812476158142,\n",
       "  0.6723437309265137,\n",
       "  0.6714062690734863,\n",
       "  0.6739062666893005,\n",
       "  0.6762499809265137,\n",
       "  0.671875,\n",
       "  0.6785937547683716,\n",
       "  0.6790624856948853,\n",
       "  0.6864062547683716,\n",
       "  0.6771875023841858,\n",
       "  0.68359375,\n",
       "  0.6857812404632568,\n",
       "  0.6817187666893005,\n",
       "  0.6795312762260437,\n",
       "  0.6795312762260437,\n",
       "  0.6775000095367432,\n",
       "  0.6842187643051147,\n",
       "  0.690625011920929,\n",
       "  0.6974999904632568,\n",
       "  0.69140625,\n",
       "  0.6885937452316284,\n",
       "  0.6850000023841858,\n",
       "  0.6760937571525574,\n",
       "  0.688281238079071,\n",
       "  0.6859375238418579,\n",
       "  0.6775000095367432,\n",
       "  0.6820312738418579,\n",
       "  0.6846874952316284,\n",
       "  0.6782812476158142,\n",
       "  0.6893749833106995,\n",
       "  0.684374988079071,\n",
       "  0.6903125047683716,\n",
       "  0.6806250214576721,\n",
       "  0.6946874856948853,\n",
       "  0.6853125095367432,\n",
       "  0.6860937476158142,\n",
       "  0.6832812428474426,\n",
       "  0.6801562309265137,\n",
       "  0.6876562237739563,\n",
       "  0.692187488079071,\n",
       "  0.6803125143051147,\n",
       "  0.6912500262260437,\n",
       "  0.6943749785423279,\n",
       "  0.6856250166893005,\n",
       "  0.6850000023841858,\n",
       "  0.6853125095367432,\n",
       "  0.6965625286102295,\n",
       "  0.684374988079071,\n",
       "  0.6910937428474426,\n",
       "  0.6887500286102295,\n",
       "  0.6887500286102295,\n",
       "  0.6862499713897705,\n",
       "  0.6871874928474426,\n",
       "  0.6837499737739563,\n",
       "  0.6817187666893005,\n",
       "  0.6934375166893005,\n",
       "  0.680468738079071,\n",
       "  0.6893749833106995,\n",
       "  0.6878125071525574,\n",
       "  0.6878125071525574,\n",
       "  0.6810937523841858,\n",
       "  0.6865624785423279,\n",
       "  0.6946874856948853,\n",
       "  0.6893749833106995,\n",
       "  0.6870312690734863,\n",
       "  0.6920312643051147,\n",
       "  0.686718761920929,\n",
       "  0.6785937547683716,\n",
       "  0.6879687309265137,\n",
       "  0.6892187595367432,\n",
       "  0.6846874952316284,\n",
       "  0.6907812356948853,\n",
       "  0.6937500238418579,\n",
       "  0.686718761920929,\n",
       "  0.6871874928474426,\n",
       "  0.6896874904632568,\n",
       "  0.6885937452316284,\n",
       "  0.6896874904632568,\n",
       "  0.6917187571525574,\n",
       "  0.7017187476158142,\n",
       "  0.7026562690734863,\n",
       "  0.688281238079071,\n",
       "  0.682812511920929,\n",
       "  0.6862499713897705,\n",
       "  0.6901562213897705,\n",
       "  0.6920312643051147,\n",
       "  0.6881250143051147,\n",
       "  0.6982812285423279,\n",
       "  0.6957812309265137,\n",
       "  0.686718761920929,\n",
       "  0.6989062428474426,\n",
       "  0.6873437762260437,\n",
       "  0.6903125047683716,\n",
       "  0.6862499713897705],\n",
       " 'val_loss': [99.9770278930664,\n",
       "  22.293437957763672,\n",
       "  67.90406036376953,\n",
       "  11.568591117858887,\n",
       "  93.5555648803711,\n",
       "  45.888736724853516,\n",
       "  19.68655776977539,\n",
       "  41.604713439941406,\n",
       "  14.515039443969727,\n",
       "  24.36807632446289,\n",
       "  45.512718200683594,\n",
       "  70.33815002441406,\n",
       "  55.12360382080078,\n",
       "  54.434078216552734,\n",
       "  80.52136993408203,\n",
       "  193.6411590576172,\n",
       "  19.002107620239258,\n",
       "  65.6978759765625,\n",
       "  32.76857376098633,\n",
       "  25.086841583251953,\n",
       "  41.20423889160156,\n",
       "  50.813541412353516,\n",
       "  80.47244262695312,\n",
       "  217.2794189453125,\n",
       "  17.696243286132812,\n",
       "  19.584888458251953,\n",
       "  29.878379821777344,\n",
       "  15.118417739868164,\n",
       "  43.915435791015625,\n",
       "  44.21669387817383,\n",
       "  41.321022033691406,\n",
       "  36.40681838989258,\n",
       "  25.781513214111328,\n",
       "  33.50141525268555,\n",
       "  102.86353302001953,\n",
       "  40.94157409667969,\n",
       "  18.08584213256836,\n",
       "  33.458984375,\n",
       "  118.2123031616211,\n",
       "  12.371062278747559,\n",
       "  33.68812561035156,\n",
       "  30.295209884643555,\n",
       "  67.56981658935547,\n",
       "  82.91004180908203,\n",
       "  12.056219100952148,\n",
       "  94.79496765136719,\n",
       "  77.60781860351562,\n",
       "  18.783632278442383,\n",
       "  70.51374053955078,\n",
       "  23.39080810546875,\n",
       "  20.288158416748047,\n",
       "  31.16187286376953,\n",
       "  37.7072639465332,\n",
       "  40.43973159790039,\n",
       "  31.073286056518555,\n",
       "  77.05091857910156,\n",
       "  38.9726676940918,\n",
       "  30.291549682617188,\n",
       "  27.955076217651367,\n",
       "  40.45463180541992,\n",
       "  23.084999084472656,\n",
       "  15.271607398986816,\n",
       "  32.870933532714844,\n",
       "  30.30217933654785,\n",
       "  100.1041488647461,\n",
       "  87.02713775634766,\n",
       "  25.33698272705078,\n",
       "  33.821739196777344,\n",
       "  18.110885620117188,\n",
       "  45.79884719848633,\n",
       "  44.39558410644531,\n",
       "  19.009414672851562,\n",
       "  16.98712921142578,\n",
       "  44.904537200927734,\n",
       "  17.541353225708008,\n",
       "  42.595916748046875,\n",
       "  62.41447830200195,\n",
       "  22.933595657348633,\n",
       "  76.78253936767578,\n",
       "  37.75215530395508,\n",
       "  40.081424713134766,\n",
       "  17.18826675415039,\n",
       "  38.483280181884766,\n",
       "  75.20814514160156,\n",
       "  15.78210163116455,\n",
       "  50.530696868896484,\n",
       "  46.440757751464844,\n",
       "  32.35435104370117,\n",
       "  29.990951538085938,\n",
       "  23.734878540039062,\n",
       "  128.15745544433594,\n",
       "  186.1424560546875,\n",
       "  37.91849136352539,\n",
       "  19.238557815551758,\n",
       "  75.37724304199219,\n",
       "  13.353292465209961,\n",
       "  53.5125617980957,\n",
       "  47.9880256652832,\n",
       "  33.26618957519531,\n",
       "  19.22557258605957],\n",
       " 'val_accuracy': [0.7481250166893005,\n",
       "  0.7681249976158142,\n",
       "  0.5487499833106995,\n",
       "  0.5893750190734863,\n",
       "  0.46937501430511475,\n",
       "  0.5149999856948853,\n",
       "  0.7387499809265137,\n",
       "  0.7356250286102295,\n",
       "  0.7206249833106995,\n",
       "  0.5981249809265137,\n",
       "  0.5274999737739563,\n",
       "  0.4724999964237213,\n",
       "  0.5168750286102295,\n",
       "  0.7975000143051147,\n",
       "  0.7975000143051147,\n",
       "  0.7975000143051147,\n",
       "  0.7712500095367432,\n",
       "  0.7975000143051147,\n",
       "  0.7524999976158142,\n",
       "  0.7962499856948853,\n",
       "  0.5287500023841858,\n",
       "  0.7975000143051147,\n",
       "  0.796875,\n",
       "  0.7975000143051147,\n",
       "  0.7818750143051147,\n",
       "  0.7956249713897705,\n",
       "  0.7925000190734863,\n",
       "  0.7818750143051147,\n",
       "  0.796875,\n",
       "  0.7931249737739563,\n",
       "  0.5375000238418579,\n",
       "  0.23874999582767487,\n",
       "  0.7900000214576721,\n",
       "  0.7724999785423279,\n",
       "  0.796875,\n",
       "  0.7825000286102295,\n",
       "  0.7506250143051147,\n",
       "  0.7918750047683716,\n",
       "  0.22187499701976776,\n",
       "  0.7768750190734863,\n",
       "  0.7943750023841858,\n",
       "  0.7918750047683716,\n",
       "  0.7900000214576721,\n",
       "  0.796875,\n",
       "  0.7256249785423279,\n",
       "  0.46437498927116394,\n",
       "  0.7962499856948853,\n",
       "  0.4856249988079071,\n",
       "  0.4468750059604645,\n",
       "  0.7912499904632568,\n",
       "  0.6331250071525574,\n",
       "  0.796875,\n",
       "  0.793749988079071,\n",
       "  0.796875,\n",
       "  0.7956249713897705,\n",
       "  0.31437501311302185,\n",
       "  0.5149999856948853,\n",
       "  0.7818750143051147,\n",
       "  0.7774999737739563,\n",
       "  0.796875,\n",
       "  0.43812501430511475,\n",
       "  0.5481250286102295,\n",
       "  0.793749988079071,\n",
       "  0.5456249713897705,\n",
       "  0.796875,\n",
       "  0.7962499856948853,\n",
       "  0.5543749928474426,\n",
       "  0.7912499904632568,\n",
       "  0.715624988079071,\n",
       "  0.7950000166893005,\n",
       "  0.5043749809265137,\n",
       "  0.550000011920929,\n",
       "  0.7943750023841858,\n",
       "  0.7912499904632568,\n",
       "  0.7206249833106995,\n",
       "  0.796875,\n",
       "  0.5018749833106995,\n",
       "  0.48500001430511475,\n",
       "  0.7962499856948853,\n",
       "  0.7962499856948853,\n",
       "  0.7943750023841858,\n",
       "  0.7950000166893005,\n",
       "  0.796875,\n",
       "  0.7931249737739563,\n",
       "  0.7918750047683716,\n",
       "  0.7962499856948853,\n",
       "  0.48124998807907104,\n",
       "  0.7925000190734863,\n",
       "  0.7931249737739563,\n",
       "  0.5318750143051147,\n",
       "  0.7962499856948853,\n",
       "  0.7962499856948853,\n",
       "  0.47312501072883606,\n",
       "  0.5793750286102295,\n",
       "  0.265625,\n",
       "  0.590624988079071,\n",
       "  0.2475000023841858,\n",
       "  0.7950000166893005,\n",
       "  0.796875,\n",
       "  0.7918750047683716]}"
      ]
     },
     "execution_count": 45,
     "metadata": {},
     "output_type": "execute_result"
    }
   ],
   "source": [
    "history.history"
   ]
  },
  {
   "cell_type": "code",
   "execution_count": 46,
   "id": "a17c878f",
   "metadata": {},
   "outputs": [
    {
     "data": {
      "text/plain": [
       "[<matplotlib.lines.Line2D at 0x2600a865d60>]"
      ]
     },
     "execution_count": 46,
     "metadata": {},
     "output_type": "execute_result"
    },
    {
     "data": {
      "image/png": "[encoded data removed]",
      "text/plain": [
       "<Figure size 640x480 with 1 Axes>"
      ]
     },
     "metadata": {},
     "output_type": "display_data"
    }
   ],
   "source": [
    "plt.plot(history.history['loss'])\n",
    "plt.plot(history.history['val_loss'])"
   ]
  },
  {
   "cell_type": "code",
   "execution_count": 47,
   "id": "0fe16314",
   "metadata": {},
   "outputs": [
    {
     "data": {
      "text/plain": [
       "[<matplotlib.lines.Line2D at 0x2600c8c0d30>]"
      ]
     },
     "execution_count": 47,
     "metadata": {},
     "output_type": "execute_result"
    },
    {
     "data": {
      "image/png": "[encoded data removed]",
      "text/plain": [
       "<Figure size 640x480 with 1 Axes>"
      ]
     },
     "metadata": {},
     "output_type": "display_data"
    }
   ],
   "source": [
    "plt.plot(history.history['accuracy'])\n",
    "plt.plot(history.history['val_accuracy'])"
   ]
  },
  {
   "cell_type": "code",
   "execution_count": null,
   "id": "57506222",
   "metadata": {},
   "outputs": [],
   "source": []
  }
 ],
 "metadata": {
  "kernelspec": {
   "display_name": "Python 3 (ipykernel)",
   "language": "python",
   "name": "python3"
  },
  "language_info": {
   "codemirror_mode": {
    "name": "ipython",
    "version": 3
   },
   "file_extension": ".py",
   "mimetype": "text/x-python",
   "name": "python",
   "nbconvert_exporter": "python",
   "pygments_lexer": "ipython3",
   "version": "3.9.13"
  }
 },
 "nbformat": 4,
 "nbformat_minor": 5
}
